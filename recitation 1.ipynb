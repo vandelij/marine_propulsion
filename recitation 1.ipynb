{
 "cells": [
  {
   "cell_type": "code",
   "execution_count": 3,
   "id": "c703e2fc",
   "metadata": {},
   "outputs": [],
   "source": [
    "import numpy as np\n",
    "import matplotlib.pyplot as  plt"
   ]
  },
  {
   "cell_type": "code",
   "execution_count": 6,
   "id": "cd5be0e3",
   "metadata": {},
   "outputs": [],
   "source": [
    "R = 455.6e3 # N\n",
    "vs = 20.88*0.5144 # m/s\n",
    "vend = 16*0.5144 # m/s\n",
    "n_p = 255*(1/60) # rot/s\n",
    "n_e = 1000*(1/60)\n",
    "kp = 2\n",
    "ke = 1\n",
    "t = 0.08\n",
    "w = 0.045\n",
    "eta_O = 0.679\n",
    "eta_R = 0.97\n",
    "eta_S = 0.99\n",
    "eta_GB = 0.99\n",
    "eta_e = 0.363\n",
    "delta = 1827*1e3 # kg\n",
    "rho = 1025 # kg/m^3\n",
    "h_L = 42700e3 # kj/kg"
   ]
  },
  {
   "cell_type": "code",
   "execution_count": 7,
   "id": "7bb93305",
   "metadata": {},
   "outputs": [
    {
     "name": "stdout",
     "output_type": "stream",
     "text": [
      "Effective Power P_E =  4893.450163199999 kW\n",
      "Hull efficiency eta_H:  0.9633507853403143\n",
      "Thrust power per propeller P_T:  2539.807014052173 kW\n",
      "Open water propeller power per propeller P_O:  3740.5110663507703 kW\n",
      "Propeller power per propeller P_p:  3856.196975619351 kW\n",
      "Delivered power P_d:  7712.393951238702 kW\n",
      "Shaft power per propeller P_s:  3895.148460221567 kW\n",
      "Break power per engine:  3934.493394163199 kW\n",
      "Heat input per engine:  10838.824777309088 kW\n",
      "Propulsive efficiency eta_D:  0.6344917277486912\n",
      "Transmission efficiency eta_TRM:  0.9801\n",
      "fraction of fuel energy converted to towing power:  0.22573711927903667\n",
      "C_E:  0.02620920333800533\n",
      "C_D:  0.04130739959526508\n",
      "Thrust per prop T:  247.60869565217388\n",
      "Open water torque:  140.0754884469792 kN-m\n",
      "Torque delivered to one prop:  144.40772004843214 kN-m\n",
      "Shaft torque delivered to one prop:  145.8663838873052 kN-m\n",
      "Engine torque:  37.57164433460892 kN-m\n",
      "fuel mass flow rate:  0.2538366458386203 kg/s\n",
      "c1:  3949.306198995635\n"
     ]
    }
   ],
   "source": [
    "P_E = R*vs\n",
    "print('Effective Power P_E = ', P_E/1000, 'kW')\n",
    "eta_H = (1 - t)/(1 - w)\n",
    "print('Hull efficiency eta_H: ', eta_H)\n",
    "P_T = P_E / (kp*eta_H)\n",
    "print('Thrust power per propeller P_T: ', P_T/1000, 'kW')\n",
    "P_O = P_T / eta_O\n",
    "print('Open water propeller power per propeller P_O: ', P_O/1000, 'kW')\n",
    "P_p = P_O / eta_R\n",
    "print('Propeller power per propeller P_p: ', P_p/1000, 'kW')\n",
    "P_d = P_p * kp\n",
    "print('Delivered power P_d: ', P_d/1000, 'kW')\n",
    "eta_D = eta_O*eta_H*eta_R\n",
    "P_s = P_p / eta_S\n",
    "print('Shaft power per propeller P_s: ', P_s/1000, 'kW')\n",
    "P_B = P_s / (eta_GB*ke)\n",
    "print('Break power per engine: ', P_B/1000, 'kW')\n",
    "Qdot_F = P_B / (eta_e)\n",
    "print('Heat input per engine: ', Qdot_F/1000, 'kW')\n",
    "print('Propulsive efficiency eta_D: ', eta_D)\n",
    "eta_TRM = eta_S * eta_GB\n",
    "print('Transmission efficiency eta_TRM: ', eta_TRM)\n",
    "print('fraction of fuel energy converted to towing power: ', P_E/(ke*kp*Qdot_F))\n",
    "C_E = P_E / (rho**(1/3) * delta**(2/3) * vs**3)\n",
    "print('C_E: ', C_E)\n",
    "C_D = C_E / eta_D\n",
    "print('C_D: ', C_D)\n",
    "T = P_T / ((1-w)*vs)\n",
    "print('Thrust per prop T: ', T/1000)\n",
    "Q = P_O / (2*np.pi*n_p)\n",
    "print('Open water torque: ', Q/1000, 'kN-m')\n",
    "M_P = P_p / (2*np.pi*n_p)\n",
    "print('Torque delivered to one prop: ', M_P/1000, 'kN-m')\n",
    "M_s = P_s / (2*np.pi*n_p)\n",
    "print('Shaft torque delivered to one prop: ', M_s/1000, 'kN-m')\n",
    "M_B = P_B / (2*np.pi*n_e)\n",
    "print('Engine torque: ', M_B/1000, 'kN-m')\n",
    "mdot_f = Qdot_F/h_L\n",
    "print('fuel mass flow rate: ', mdot_f, 'kg/s')\n",
    "c1 = R / vs**2\n",
    "print('c1: ', c1)"
   ]
  },
  {
   "cell_type": "code",
   "execution_count": 61,
   "id": "a00c3a58",
   "metadata": {},
   "outputs": [
    {
     "name": "stdout",
     "output_type": "stream",
     "text": [
      "new R:  267.52396470985457 kN\n",
      "Effective Power P_E =  2201.8292391479868 kW\n",
      "Hull efficiency eta_H:  0.9633507853403143\n",
      "Thrust power per propeller P_T:  1142.79724097083 kW\n",
      "Open water propeller power per propeller P_O:  1683.0592650527685 kW\n",
      "Propeller power per propeller P_p:  1735.1126443842975 kW\n",
      "Delivered power P_d:  3470.225288768595 kW\n",
      "Shaft power per propeller P_s:  1752.6390347316137 kW\n",
      "Break power per engine:  1770.3424593248624 kW\n",
      "Heat input per engine:  4876.976471969318 kW\n",
      "Propulsive efficiency eta_D:  0.6344917277486912\n",
      "Transmission efficiency eta_TRM:  0.9801\n",
      "fraction of fuel energy converted to towing power:  0.4514742385580734\n",
      "C_E:  0.011792945328916506\n",
      "C_D:  0.01858644457156334\n",
      "Thrust per prop T:  111.4126123229446\n",
      "Open water torque:  63.02757683523779 kN-m\n",
      "Torque delivered to one prop:  64.97688333529668 kN-m\n",
      "Shaft torque delivered to one prop:  65.63321549019867 kN-m\n",
      "Engine torque:  66.29617726282694 kN-m\n",
      "fuel mass flow rate:  0.11421490566672875 kg/s\n"
     ]
    }
   ],
   "source": [
    "R = c1*vend**2\n",
    "print('new R: ', R/1000, 'kN')\n",
    "P_E = R*vend\n",
    "print('Effective Power P_E = ', P_E/1000, 'kW')\n",
    "eta_H = (1 - t)/(1 - w)\n",
    "print('Hull efficiency eta_H: ', eta_H)\n",
    "P_T = P_E / (kp*eta_H)\n",
    "print('Thrust power per propeller P_T: ', P_T/1000, 'kW')\n",
    "P_O = P_T / eta_O\n",
    "print('Open water propeller power per propeller P_O: ', P_O/1000, 'kW')\n",
    "P_p = P_O / eta_R\n",
    "print('Propeller power per propeller P_p: ', P_p/1000, 'kW')\n",
    "P_d = P_p * kp\n",
    "print('Delivered power P_d: ', P_d/1000, 'kW')\n",
    "eta_D = eta_O*eta_H*eta_R\n",
    "P_s = P_p / eta_S\n",
    "print('Shaft power per propeller P_s: ', P_s/1000, 'kW')\n",
    "P_B = P_s / (eta_GB*ke)\n",
    "print('Break power per engine: ', P_B/1000, 'kW')\n",
    "Qdot_F = P_B / (eta_e)\n",
    "print('Heat input per engine: ', Qdot_F/1000, 'kW')\n",
    "print('Propulsive efficiency eta_D: ', eta_D)\n",
    "eta_TRM = eta_S * eta_GB\n",
    "print('Transmission efficiency eta_TRM: ', eta_TRM)\n",
    "print('fraction of fuel energy converted to towing power: ', P_E/Qdot_F)\n",
    "C_E = P_E / (rho**(1/3) * delta**(2/3) * vs**3)\n",
    "print('C_E: ', C_E)\n",
    "C_D = C_E / eta_D\n",
    "print('C_D: ', C_D)\n",
    "T = P_T / ((1-w)*vs)\n",
    "print('Thrust per prop T: ', T/1000)\n",
    "Q = P_O / (2*np.pi*n_p)\n",
    "print('Open water torque: ', Q/1000, 'kN-m')\n",
    "M_P = P_p / (2*np.pi*n_p)\n",
    "print('Torque delivered to one prop: ', M_P/1000, 'kN-m')\n",
    "M_s = P_s / (2*np.pi*n_p)\n",
    "print('Shaft torque delivered to one prop: ', M_s/1000, 'kN-m')\n",
    "M_B = P_B / (2*np.pi*n_p)\n",
    "print('Engine torque: ', M_B/1000, 'kN-m')\n",
    "mdot_f = Qdot_F/h_L\n",
    "print('fuel mass flow rate: ', mdot_f, 'kg/s')"
   ]
  },
  {
   "cell_type": "code",
   "execution_count": null,
   "id": "f2e17da3",
   "metadata": {},
   "outputs": [],
   "source": []
  }
 ],
 "metadata": {
  "kernelspec": {
   "display_name": "Python 3 (ipykernel)",
   "language": "python",
   "name": "python3"
  },
  "language_info": {
   "codemirror_mode": {
    "name": "ipython",
    "version": 3
   },
   "file_extension": ".py",
   "mimetype": "text/x-python",
   "name": "python",
   "nbconvert_exporter": "python",
   "pygments_lexer": "ipython3",
   "version": "3.10.9"
  },
  "varInspector": {
   "cols": {
    "lenName": 16,
    "lenType": 16,
    "lenVar": 40
   },
   "kernels_config": {
    "python": {
     "delete_cmd_postfix": "",
     "delete_cmd_prefix": "del ",
     "library": "var_list.py",
     "varRefreshCmd": "print(var_dic_list())"
    },
    "r": {
     "delete_cmd_postfix": ") ",
     "delete_cmd_prefix": "rm(",
     "library": "var_list.r",
     "varRefreshCmd": "cat(var_dic_list()) "
    }
   },
   "types_to_exclude": [
    "module",
    "function",
    "builtin_function_or_method",
    "instance",
    "_Feature"
   ],
   "window_display": false
  }
 },
 "nbformat": 4,
 "nbformat_minor": 5
}
