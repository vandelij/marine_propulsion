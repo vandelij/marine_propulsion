{
 "cells": [
  {
   "cell_type": "code",
   "execution_count": 1,
   "metadata": {},
   "outputs": [],
   "source": [
    "import matplotlib.pyplot as plt\n",
    "import numpy as np\n",
    "%matplotlib notebook"
   ]
  },
  {
   "cell_type": "code",
   "execution_count": 33,
   "metadata": {},
   "outputs": [
    {
     "name": "stdout",
     "output_type": "stream",
     "text": [
      "\n",
      "--------\n",
      "Case 1: vs = 10 kts\n",
      "Break power: 450 kW\n",
      "The journey kW-hr energies:  14400  kW-hr\n",
      "Fuel used: 3.888 metric Tons\n",
      "The mass of NOx: 272.16 kg\n",
      "\n",
      "--------\n",
      "Case 2: vs = 20 kts\n",
      "Break power: 6000 kW\n",
      "The journey kW-hr energies:  96000  kW-hr\n",
      "Fuel used: 19.008 metric Tons\n",
      "The mass of NOx: 950.4 kg\n"
     ]
    }
   ],
   "source": [
    "# max power sfc\n",
    "sfc = 198 # g/kW-hr\n",
    "ne = 1000 # rpm\n",
    "\n",
    "vs = np.array([10, 20]) # kts\n",
    "PBs = np.array([450, 6000]) # kW\n",
    "ts = np.array([32, 16])\n",
    "sfcs = np.zeros_like(PBs)\n",
    "sfcs[1] = sfc\n",
    "sfcs[0] = 270\n",
    "noxers = np.zeros_like(PBs)\n",
    "noxers[1] = 50\n",
    "noxers[0] = 70\n",
    "\n",
    "\n",
    "E_journey = ts*PBs\n",
    "mfuels = E_journey*sfcs/1000\n",
    "m_nox = noxers*mfuels\n",
    "\n",
    "for i in range(vs.shape[0]):\n",
    "    print('\\n--------')\n",
    "    print(f'Case {i+1}: vs = {vs[i]} kts')\n",
    "    print(f'Break power: {PBs[i]} kW')\n",
    "    print('The journey kW-hr energies: ', E_journey[i], ' kW-hr')\n",
    "    print(f'Fuel used: {mfuels[i]/1000} metric Tons')\n",
    "    print(f'The mass of NOx: {m_nox[i]/1000} kg')\n",
    "\n"
   ]
  },
  {
   "cell_type": "code",
   "execution_count": 24,
   "metadata": {},
   "outputs": [
    {
     "name": "stdout",
     "output_type": "stream",
     "text": [
      "\u001b[90m output\n",
      "\u001b[91m output\n",
      "\u001b[92m output\n",
      "\u001b[93m output\n",
      "\u001b[94m output\n",
      "\u001b[95m output\n"
     ]
    }
   ],
   "source": [
    "for i in np.arange(90,96, 1):\n",
    "    print(f'\\033[{i}m output')"
   ]
  },
  {
   "cell_type": "code",
   "execution_count": null,
   "metadata": {},
   "outputs": [],
   "source": []
  }
 ],
 "metadata": {
  "kernelspec": {
   "display_name": "base",
   "language": "python",
   "name": "python3"
  },
  "language_info": {
   "codemirror_mode": {
    "name": "ipython",
    "version": 3
   },
   "file_extension": ".py",
   "mimetype": "text/x-python",
   "name": "python",
   "nbconvert_exporter": "python",
   "pygments_lexer": "ipython3",
   "version": "3.10.9"
  }
 },
 "nbformat": 4,
 "nbformat_minor": 2
}
