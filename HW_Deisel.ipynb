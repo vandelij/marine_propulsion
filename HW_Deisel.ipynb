{
 "cells": [
  {
   "cell_type": "code",
   "execution_count": 1,
   "id": "a61496c2",
   "metadata": {},
   "outputs": [],
   "source": [
    "import numpy as np\n",
    "import matplotlib.pyplot as plt"
   ]
  },
  {
   "cell_type": "code",
   "execution_count": 3,
   "id": "d328b8d5",
   "metadata": {},
   "outputs": [],
   "source": [
    "k = 2\n",
    "P_B = 7200e3 # W\n",
    "P_BI = 600e3 # kW/cylinder\n",
    "i = 12 # number of cylinders\n",
    "ne = 750*(1/60) # rot/sec, Hz\n",
    "Ls = 0.44 # m, stroke length\n",
    "D_B = 0.32 # m\n",
    "p_me = 27.1 # bar\n",
    "sfc = 172 # g/kWh\n",
    "rc = 16.3\n",
    "epsi = rc\n",
    "p1 = 3 # bar\n",
    "p3 = 220 # bar\n",
    "p4 = p3\n",
    "cp = 1.1e3 #J/kgK\n",
    "cv = 0.813e3 #J/kgK\n",
    "R = cp - cv\n",
    "kappa = cp/cv\n",
    "sigma = 14.5 # kg-air / kg fuel\n",
    "h_L = 42700e3 # J/kg\n",
    "L_eng = 7.195\n",
    "W_eng = 3.1\n",
    "H_eng = 4.039\n",
    "Weight_eng = 70 #Ton metric\n",
    "\n",
    "\n",
    "# # cycle\n",
    "scavanging = 1.10 # 10 % more air is used for scavanging \n",
    "T_amb = 298 #K\n",
    "T1 = 388 # K\n",
    "b = 1.59\n"
   ]
  },
  {
   "cell_type": "code",
   "execution_count": 8,
   "id": "e2d1c78b",
   "metadata": {},
   "outputs": [
    {
     "name": "stdout",
     "output_type": "stream",
     "text": [
      "lambda_s:  1.375\n",
      "Vs:  0.03538689965003543 m^3\n",
      "cm:  11.0 m/s\n",
      "betaVS:  16.955427175983168 kW/lt\n",
      "betaVS2:  16.9375 kW/lt\n",
      "Technology parameter:  298.1 bar m/s\n",
      "WI:  1144.7040000000002 bar m^2/s\n",
      "eta_e:  0.4901693807526823\n",
      "mdotf:  0.344\n",
      "V_BDC:  0.03769976890820768 m^3\n",
      "rho_1:  2.6940622867200688 kg/m^3\n",
      "m_air:  0.10156552563366412 kg\n",
      "mdot_air:  7.61741442252481 kg/s\n",
      "mdot air with scavanging:  8.379155864777292 kg/s\n",
      "sac:  4.189577932388646\n",
      "afr:  22.143646577107006\n",
      "air excess ratio lambda:  1.527148039800483\n",
      "air excess ratio lambda including scavanging:  1.6798628437805316\n"
     ]
    }
   ],
   "source": [
    "lambda_s = Ls/D_B\n",
    "print('lambda_s: ', lambda_s)\n",
    "pi = np.pi\n",
    "Vs = pi/4 * D_B**2 * Ls\n",
    "print('Vs: ', Vs, 'm^3')\n",
    "cm = 2*ne*Ls\n",
    "print('cm: ', cm, 'm/s')\n",
    "\n",
    "betaVS = P_B/(i*Vs) * (1/1000)*(1/1000)\n",
    "print('betaVS: ', betaVS, 'kW/lt')\n",
    "betaVS2 = p_me*ne/k *(100000)*(1/1000)*(1/1000)\n",
    "print('betaVS2: ', betaVS2, 'kW/lt')\n",
    "\n",
    "TP = p_me*cm\n",
    "print('Technology parameter: ', TP, 'bar m/s')\n",
    "WI = i*D_B*p_me*cm\n",
    "print('WI: ', WI, 'bar m^2/s')\n",
    "\n",
    "eta_e = 3.6e9 / (sfc*h_L)\n",
    "print('eta_e: ', eta_e)\n",
    "mdotf = sfc*P_B/3.6e9\n",
    "print('mdotf: ', mdotf)\n",
    "V_BDC = Vs*epsi/(epsi-1)\n",
    "print('V_BDC: ', V_BDC, 'm^3')\n",
    "rho_1 = p1*1e5/(R*T1)\n",
    "print('rho_1: ', rho_1, 'kg/m^3')\n",
    "m_air = rho_1*V_BDC\n",
    "print('m_air: ', m_air, 'kg')\n",
    "mdot_air = m_air*ne*i/k\n",
    "print('mdot_air: ', mdot_air, 'kg/s')\n",
    "mdot_air_plus_scav = scavanging*mdot_air\n",
    "print('mdot air with scavanging: ', mdot_air_plus_scav, 'kg/s')\n",
    "sac = mdot_air_plus_scav*3600*1000/P_B\n",
    "print('sac: ', sac)\n",
    "afr = mdot_air/mdotf\n",
    "print('afr: ', afr)\n",
    "lambda_ex = afr/sigma\n",
    "print('air excess ratio lambda: ', lambda_ex)\n",
    "lambda_tot = lambda_ex*scavanging\n",
    "print('air excess ratio lambda including scavanging: ', lambda_tot)"
   ]
  },
  {
   "cell_type": "code",
   "execution_count": 10,
   "id": "4c1f5094",
   "metadata": {},
   "outputs": [
    {
     "name": "stdout",
     "output_type": "stream",
     "text": [
      "p2:  130.98678554100562 bar\n",
      "T2:  1039.3225519409034 K\n",
      "a:  1.6795587363362594\n",
      "T3:  1745.60327198364 K\n",
      "T4:  2775.5092024539877 K\n",
      "T5:  1220.449899635637 K\n",
      "p5:  9.43646829615183 bar\n",
      "qin:  1707.1027489121273 kW/kg\n",
      "qout:  -676.7817684037728 kW/kg\n",
      "wcycle:  1030.3209805083543 kW/kg\n",
      "pmi:  29.57170393327138 bar\n",
      "eta_th:  0.6035494823993104\n",
      "eta_m:  0.9164165873279138\n",
      "eta_q:  0.8862175691566746\n",
      "eta_i:  0.5348761551576859\n",
      "break power MW per ton:  0.10285714285714286\n"
     ]
    }
   ],
   "source": [
    "# Seiliger cycle\n",
    "\n",
    "p2 = p1*rc**kappa\n",
    "print('p2: ', p2, 'bar')\n",
    "T2 = T1*rc**(kappa-1)\n",
    "print('T2: ', T2, 'K')\n",
    "a = p3/p2\n",
    "print('a: ', a)\n",
    "T3 = T2*a\n",
    "print('T3: ', T3, 'K')\n",
    "T4 = T3*b\n",
    "print('T4: ', T4, 'K')\n",
    "p5 = p4*(rc/b)**(-kappa)\n",
    "T5 = T4*(rc/b)**(-(kappa-1))\n",
    "print('T5: ', T5, 'K')\n",
    "print('p5: ', p5, 'bar')\n",
    "qin = cv*(T3-T2) + cp*(T4 - T3)\n",
    "print('qin: ', qin/1000, 'kW/kg')\n",
    "qout = cv*(T1-T5)\n",
    "print('qout: ', qout/1000, 'kW/kg')\n",
    "w_cycle = qin + qout\n",
    "print('wcycle: ', w_cycle/1e3, 'kW/kg')\n",
    "pmi = m_air*w_cycle/Vs\n",
    "print('pmi: ', pmi/1e5, 'bar')\n",
    "eta_th = w_cycle/qin\n",
    "print('eta_th: ', eta_th)\n",
    "eta_m = p_me*1e5/pmi\n",
    "print('eta_m: ', eta_m)\n",
    "eta_q = eta_e/(eta_m*eta_th)\n",
    "print('eta_q: ', eta_q)\n",
    "eta_i = eta_e/eta_m\n",
    "print('eta_i: ', eta_i)\n",
    "break_power_per_ton = P_B/Weight_eng\n",
    "print('break power MW per ton: ', break_power_per_ton/1e6)"
   ]
  },
  {
   "cell_type": "code",
   "execution_count": 11,
   "id": "36cfcb7b",
   "metadata": {},
   "outputs": [
    {
     "data": {
      "text/plain": [
       "12.5"
      ]
     },
     "execution_count": 11,
     "metadata": {},
     "output_type": "execute_result"
    }
   ],
   "source": [
    "ne\n"
   ]
  },
  {
   "cell_type": "code",
   "execution_count": null,
   "id": "c13c3242",
   "metadata": {},
   "outputs": [],
   "source": []
  }
 ],
 "metadata": {
  "kernelspec": {
   "display_name": "Python 3 (ipykernel)",
   "language": "python",
   "name": "python3"
  },
  "language_info": {
   "codemirror_mode": {
    "name": "ipython",
    "version": 3
   },
   "file_extension": ".py",
   "mimetype": "text/x-python",
   "name": "python",
   "nbconvert_exporter": "python",
   "pygments_lexer": "ipython3",
   "version": "3.10.9"
  },
  "varInspector": {
   "cols": {
    "lenName": 16,
    "lenType": 16,
    "lenVar": 40
   },
   "kernels_config": {
    "python": {
     "delete_cmd_postfix": "",
     "delete_cmd_prefix": "del ",
     "library": "var_list.py",
     "varRefreshCmd": "print(var_dic_list())"
    },
    "r": {
     "delete_cmd_postfix": ") ",
     "delete_cmd_prefix": "rm(",
     "library": "var_list.r",
     "varRefreshCmd": "cat(var_dic_list()) "
    }
   },
   "types_to_exclude": [
    "module",
    "function",
    "builtin_function_or_method",
    "instance",
    "_Feature"
   ],
   "window_display": false
  }
 },
 "nbformat": 4,
 "nbformat_minor": 5
}
