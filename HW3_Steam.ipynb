{
 "cells": [
  {
   "cell_type": "code",
   "execution_count": 2,
   "id": "beac11f8",
   "metadata": {},
   "outputs": [],
   "source": [
    "import numpy as np\n",
    "import matplotlib.pyplot as plt"
   ]
  },
  {
   "cell_type": "code",
   "execution_count": 3,
   "id": "4fabb885",
   "metadata": {},
   "outputs": [],
   "source": [
    "R = 2585e3 # N #CHECK\n",
    "vs = 25.5*0.5144 # m/s #CHECK\n",
    "vend = 21*0.5144 # m/s #CHECK\n",
    "n_p = 176.9*(1/60) # rot/s #CHECK\n",
    "n_eHP = 5957*(1/60) #CHECK\n",
    "n_eLP = 4403*(1/60) #CHECK\n",
    "kp = 2 #CHECK\n",
    "ke = 1 #CHECK\n",
    "t = 0.05 #CHECK\n",
    "w = 0.045 #CHECK\n",
    "eta_O = 0.679 #CHECK \n",
    "eta_R = 0.98 #CHECK\n",
    "eta_S = 0.99 #CHECK\n",
    "eta_GB = 0.99 #CHECK\n",
    "eta_e = 0.29 #CHECK\n",
    "delta = 40092*1e3 # kg #CHECK\n",
    "rho = 1025 # kg/m^3 #CHECK\n",
    "h_L = 42700e3 # j/kg #CHECK"
   ]
  },
  {
   "cell_type": "code",
   "execution_count": 6,
   "id": "97dbf619",
   "metadata": {},
   "outputs": [
    {
     "name": "stdout",
     "output_type": "stream",
     "text": [
      "Effective Power P_E =  33915.0 kW\n",
      "Hull efficiency eta_H:  0.9947643979057592\n",
      "Thrust power per propeller P_T:  17046.75 kW\n",
      "Open water propeller power per propeller P_O:  25105.670103092783 kW\n",
      "Propeller power per propeller P_p:  25618.030717441616 kW\n",
      "Delivered power P_d:  51236.06143488323 kW\n",
      "Shaft power per propeller P_s:  25876.79870448648 kW\n",
      "Total Shaft power kp*P_s:  51753.59740897296 kW\n",
      "Break power per engine P_b:  26138.1805095823 kW\n",
      "Total Break power : kp*P_b 52276.3610191646 kW\n",
      "Heat input per engine:  90131.65692959414 kW\n",
      "Propulsive efficiency eta_D:  0.6619361256544503\n",
      "Transmission efficiency eta_TRM:  0.9801\n",
      "fraction of fuel energy converted to towing power:  0.18814144305863875 = 0.18814144305863872\n",
      "C_E:  0.012722973738798764\n",
      "C_D:  0.019220848123706308\n",
      "Thrust per prop T:  1360.808709175739 kN\n",
      "Open water torque:  1355.2373645703665 kN-m\n",
      "Torque delivered to one prop:  1382.8952699697616 kN-m\n",
      "Shaft torque delivered to one prop:  1396.8639090603654 kN-m\n",
      "Engine torque:  41.90049318309477 (DONT USE FOR PSET) kN-m\n",
      "HP Engine torque M_B_HP:  20.950246591547383 kN-m\n",
      "HP Engine torque M_B_LP:  28.34445127091705 kN-m\n",
      "fuel mass flow rate:  2.1108116376954134 kg/s\n",
      "c1:  15023.747182241297\n",
      "Vs_H =  37.35212443757383 knots\n",
      "Alternative P_B_total:  52276.36101916459 kW\n",
      "Alternative P_B_shaft:  26138.180509582297 kW\n"
     ]
    }
   ],
   "source": [
    "P_E = R*vs\n",
    "P_E = 33915e3\n",
    "print('Effective Power P_E = ', P_E/1000, 'kW')\n",
    "eta_H = (1 - t)/(1 - w)\n",
    "print('Hull efficiency eta_H: ', eta_H)\n",
    "P_T = P_E / (kp*eta_H)\n",
    "print('Thrust power per propeller P_T: ', P_T/1000, 'kW')\n",
    "P_O = P_T / eta_O\n",
    "print('Open water propeller power per propeller P_O: ', P_O/1000, 'kW')\n",
    "P_p = P_O / eta_R\n",
    "print('Propeller power per propeller P_p: ', P_p/1000, 'kW')\n",
    "P_d = P_p * kp\n",
    "print('Delivered power P_d: ', P_d/1000, 'kW')\n",
    "eta_D = eta_O*eta_H*eta_R\n",
    "P_s = P_p / eta_S\n",
    "print('Shaft power per propeller P_s: ', P_s/1000, 'kW')\n",
    "print('Total Shaft power kp*P_s: ', kp*P_s/1000, 'kW')\n",
    "P_B = P_s / (eta_GB*ke)\n",
    "print('Break power per engine P_b: ', P_B/1000, 'kW')\n",
    "print('Total Break power : kp*P_b', kp*P_B/1000, 'kW')  #TODO: not true if ke =! 1\n",
    "Qdot_F = P_B / (eta_e)\n",
    "print('Heat input per engine: ', Qdot_F/1000, 'kW')\n",
    "print('Propulsive efficiency eta_D: ', eta_D)\n",
    "eta_TRM = eta_S * eta_GB\n",
    "print('Transmission efficiency eta_TRM: ', eta_TRM)\n",
    "eta_all = eta_H*eta_O*eta_R*eta_S*eta_GB*eta_e\n",
    "print('fraction of fuel energy converted to towing power: ', P_E/(kp*ke*Qdot_F), '=', eta_all)\n",
    "C_E = P_E / (rho**(1/3) * delta**(2/3) * vs**3)\n",
    "print('C_E: ', C_E)\n",
    "C_D = C_E / eta_D\n",
    "print('C_D: ', C_D)\n",
    "T = P_T / ((1-w)*vs)\n",
    "print('Thrust per prop T: ', T/1000, 'kN')\n",
    "Q = P_O / (2*np.pi*n_p)\n",
    "print('Open water torque: ', Q/1000, 'kN-m')\n",
    "M_P = P_p / (2*np.pi*n_p)\n",
    "print('Torque delivered to one prop: ', M_P/1000, 'kN-m')\n",
    "M_s = P_s / (2*np.pi*n_p)\n",
    "print('Shaft torque delivered to one prop: ', M_s/1000, 'kN-m')\n",
    "M_B = P_B / (2*np.pi*n_eHP)\n",
    "M_B_HP = (P_B/2) / (2*np.pi*n_eHP)\n",
    "M_B_LP = (P_B/2) / (2*np.pi*n_eLP)\n",
    "print('Engine torque: ', M_B/1000, '(DONT USE FOR PSET) kN-m')\n",
    "print('HP Engine torque M_B_HP: ', M_B_HP/1000, 'kN-m')\n",
    "print('HP Engine torque M_B_LP: ', M_B_LP/1000, 'kN-m')\n",
    "mdot_f = Qdot_F/h_L\n",
    "print('fuel mass flow rate: ', mdot_f, 'kg/s')\n",
    "c1 = R / vs**2\n",
    "print('c1: ', c1)\n",
    "LWL_feet = 777\n",
    "vs_H_knots = 1.34*np.sqrt(LWL_feet)\n",
    "print('Vs_H = ', vs_H_knots, 'knots')\n",
    "\n",
    "print('Alternative P_B_total: ', P_E/(1000*eta_H*eta_O*eta_R*eta_S*eta_GB*ke), 'kW')\n",
    "print('Alternative P_B_shaft: ', P_E/(1000*kp*eta_H*eta_O*eta_R*eta_S*eta_GB*ke), 'kW')"
   ]
  },
  {
   "cell_type": "code",
   "execution_count": null,
   "id": "dee1dc65",
   "metadata": {},
   "outputs": [],
   "source": [
    "P_s = #3859e3 # W\n",
    "P_B = P_s / (eta_GB*ke)\n",
    "print('Break power per engine P_b: ', P_B/1000, 'kW')"
   ]
  },
  {
   "cell_type": "code",
   "execution_count": 17,
   "id": "9ea647f4",
   "metadata": {},
   "outputs": [
    {
     "name": "stdout",
     "output_type": "stream",
     "text": [
      "h1 - h2:  -7059.900000000001\n",
      "w12:  -7.059900000000001 kJ/kg\n",
      "h2:  198.88989999999998 kJ/kg\n",
      "q23:  3451.4101 kJ/kg\n",
      "X4:  0.8585769707635084\n",
      "h4:  2246.2329756429226 kJ/kg\n",
      "w34:  1404.0670243570771 kJ/kg\n",
      "mdot:  18.616048989221852 kg/s\n",
      "q41:  2054.4029756429227 [kJ/kg]\n",
      "Q41:  38244.8664381718 [kW]\n",
      "eta_TH:  0.4047641641765716\n",
      "eta_c:  0.7707692307692308\n"
     ]
    }
   ],
   "source": [
    "p2 = 7e6 #8e6 # Pa\n",
    "p3 = p2\n",
    "p1 = 0.01e6#0.01e6 # Pa\n",
    "p4 = p1\n",
    "T3 = 600 #550 # C\n",
    "T_boil = 1300 #1400 # K\n",
    "T_ocean = 298#298 # K\n",
    "nu_f1 = 0.00101#0.00101 # m^3/kg\n",
    "h1 = 191.83e3 #191.83e3 # J/kg\n",
    "delta_h1minush2 = nu_f1*(p1 - p2)\n",
    "print('h1 - h2: ', delta_h1minush2)\n",
    "w12 = delta_h1minush2\n",
    "print('w12: ', w12/1000, 'kJ/kg')\n",
    "h2 = h1 + nu_f1*(p2 - p1)\n",
    "print('h2: ', h2/1000, 'kJ/kg')\n",
    "h3 = 3650.3e3 #3521e3 # kJ/kg\n",
    "q23 = h3 - h2\n",
    "print('q23: ', q23/1000, 'kJ/kg')\n",
    "s3 = 7.0894e3#6.8778e3 # J/kg\n",
    "T4 = 45.81# 45.81 # C\n",
    "T1 = T4\n",
    "s4 = s3\n",
    "sf4 = .6493e3\n",
    "sfg4 = 7.5009e3\n",
    "sg = 8.1502e3 \n",
    "X4 = (s4 - sf4)/sfg4\n",
    "print('X4: ', X4)\n",
    "hf4 = 191.83e3\n",
    "hfg4 = 2392.8e3\n",
    "h4 = hf4 + X4*hfg4\n",
    "print('h4: ', h4/1000, 'kJ/kg')\n",
    "\n",
    "w34 = h3 - h4\n",
    "print('w34: ', w34/1000, 'kJ/kg')\n",
    "mdot = P_B/w34\n",
    "print('mdot: ', mdot, 'kg/s')\n",
    "q41 = h4 - h1\n",
    "print('q41: ', q41/1000, '[kJ/kg]')\n",
    "Q41 = mdot*q41\n",
    "print('Q41: ', Q41/1000, '[kW]')\n",
    "eta_TH = (w34 - abs(w12))/q23\n",
    "print('eta_TH: ', eta_TH)\n",
    "eta_c = 1 - T_ocean/T_boil\n",
    "print('eta_c: ', eta_c)"
   ]
  },
  {
   "cell_type": "code",
   "execution_count": 18,
   "id": "2316330f",
   "metadata": {},
   "outputs": [
    {
     "name": "stdout",
     "output_type": "stream",
     "text": [
      "T1:  318.96 K\n",
      "T3:  873.15 K\n",
      "T4:  318.96 K\n"
     ]
    }
   ],
   "source": [
    "print('T1: ', T1 + 273.15, 'K')\n",
    "print('T3: ', T3 + 273.15, 'K')\n",
    "print('T4: ', T4 + 273.15, 'K')"
   ]
  },
  {
   "cell_type": "code",
   "execution_count": 28,
   "id": "0bb04578",
   "metadata": {},
   "outputs": [
    {
     "name": "stdout",
     "output_type": "stream",
     "text": [
      "P_B:  35051.30006334987 hp\n",
      "p_PSI:  1015.91\n",
      "boilder mass MT:  76.2\n",
      "turbine mass:  66.77272662068151 MT\n",
      "condensor mass:  18.14\n",
      "kp:  2\n",
      "Total HP, both shafts:  70102.60012669973\n",
      "total weight:  1422.4 MT\n"
     ]
    }
   ],
   "source": [
    "P_B_HP = P_B*1.341/1000\n",
    "print('P_B: ', P_B_HP, 'hp')\n",
    "p_PSI = 7 * 145.13\n",
    "print('p_PSI: ', p_PSI)\n",
    "boilder_MT = 75*1.016\n",
    "print('boilder mass MT: ', boilder_MT)\n",
    "turbine_MT = 4.2*P_B_HP*1.016/2240\n",
    "print('turbine mass: ', turbine_MT, 'MT')\n",
    "condensor_MT = 20*.907\n",
    "print('condensor mass: ', condensor_MT)\n",
    "print('kp: ', kp)\n",
    "total_installed_power_HP = P_B_HP*kp\n",
    "print('Total HP, both shafts: ', total_installed_power_HP)\n",
    "W_total = 1400*1.016\n",
    "print('total weight: ', W_total, 'MT')"
   ]
  },
  {
   "cell_type": "code",
   "execution_count": null,
   "id": "5d33ee78",
   "metadata": {},
   "outputs": [],
   "source": []
  }
 ],
 "metadata": {
  "kernelspec": {
   "display_name": "Python 3 (ipykernel)",
   "language": "python",
   "name": "python3"
  },
  "language_info": {
   "codemirror_mode": {
    "name": "ipython",
    "version": 3
   },
   "file_extension": ".py",
   "mimetype": "text/x-python",
   "name": "python",
   "nbconvert_exporter": "python",
   "pygments_lexer": "ipython3",
   "version": "3.10.9"
  },
  "varInspector": {
   "cols": {
    "lenName": 16,
    "lenType": 16,
    "lenVar": 40
   },
   "kernels_config": {
    "python": {
     "delete_cmd_postfix": "",
     "delete_cmd_prefix": "del ",
     "library": "var_list.py",
     "varRefreshCmd": "print(var_dic_list())"
    },
    "r": {
     "delete_cmd_postfix": ") ",
     "delete_cmd_prefix": "rm(",
     "library": "var_list.r",
     "varRefreshCmd": "cat(var_dic_list()) "
    }
   },
   "types_to_exclude": [
    "module",
    "function",
    "builtin_function_or_method",
    "instance",
    "_Feature"
   ],
   "window_display": false
  }
 },
 "nbformat": 4,
 "nbformat_minor": 5
}
