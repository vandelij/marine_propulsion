{
 "cells": [
  {
   "cell_type": "code",
   "execution_count": 2,
   "id": "e3ea7efc",
   "metadata": {},
   "outputs": [],
   "source": [
    "import numpy as np\n",
    "import matplotlib.pyplot as plt"
   ]
  },
  {
   "cell_type": "code",
   "execution_count": 22,
   "id": "953dd0dd",
   "metadata": {},
   "outputs": [],
   "source": [
    "# Simple Cycle\n",
    "ne = 3600*(1/60) # Hz\n",
    "T3 = 1680 #K\n",
    "p2 = 18 #bar\n",
    "nC =1.5\n",
    "nT = 1.333\n",
    "mdot = 70.5 # kg/s\n",
    "W = 24 #Ton metric\n",
    "L =6.5 #m\n",
    "Width = 2.7 #m\n",
    "H =3 # m\n",
    "PI = 18\n",
    "T1 = 300 # K\n",
    "p1 = 1 # bar\n",
    "cp = 1.0 # kJ/kg-K\n",
    "hL = 42700 # kJ/kg\n"
   ]
  },
  {
   "cell_type": "code",
   "execution_count": 23,
   "id": "0838ddeb",
   "metadata": {},
   "outputs": [
    {
     "name": "stdout",
     "output_type": "stream",
     "text": [
      "T2:  786.222418262669 K\n",
      "Pc:  34278.68048751816 kW\n",
      "T4:  816.0684311472114 K\n",
      "PT:  60907.17560412159 kW\n",
      "Qin:  63011.31951248184 kW\n",
      "mdotf:  5312.429748124932 kg/hr\n",
      "PB:  26628.49511660343 kW\n",
      "eta:  0.4225985953417246\n",
      "sac:  199.5016888811159 g/kW-hr\n",
      "Break power per ton:  1.109520629858476 MW/ton\n"
     ]
    }
   ],
   "source": [
    "T2 = T1*PI**((nC-1)/nC)\n",
    "print('T2: ', T2, 'K')\n",
    "Pc = mdot*cp*(T2-T1)\n",
    "print('Pc: ', Pc, 'kW')\n",
    "T4 = T3/PI**((nT-1)/nT)\n",
    "print('T4: ', T4, 'K')\n",
    "PT = mdot*cp*(T3-T4)\n",
    "print('PT: ', PT, 'kW')\n",
    "Qin = mdot*cp*(T3-T2)\n",
    "print('Qin: ', Qin, 'kW')\n",
    "mdotf = Qin/hL\n",
    "print('mdotf: ',mdotf*60**2, 'kg/hr' )\n",
    "PB = PT-Pc\n",
    "print('PB: ', PB, 'kW')\n",
    "eta = PB/Qin\n",
    "print('eta: ', eta)\n",
    "sfc = mdotf*3600*1000/PB\n",
    "print('sfc: ', sfc, 'g/kW-hr')\n",
    "BPperTon = PB/1000/W\n",
    "print('Break power per ton: ', BPperTon, 'MW/ton')"
   ]
  },
  {
   "cell_type": "code",
   "execution_count": 26,
   "id": "a6677274",
   "metadata": {},
   "outputs": [],
   "source": [
    "# LM +G4\n",
    "# Simple Cycle\n",
    "ne = 3600*(1/60) # Hz\n",
    "T3 = 1680 #K\n",
    "p2 = 24.2 #bar\n",
    "nC =1.5\n",
    "nT = 1.333\n",
    "mdot = 93 # kg/s\n",
    "W = 25 #Ton metric\n",
    "L =6.5 #m\n",
    "Width = 2.7 #m\n",
    "H =3 # m\n",
    "PI = 24.2\n",
    "T1 = 300 # K\n",
    "p1 = 1 # bar\n",
    "cp = 1.0 # kJ/kg-K\n",
    "hL = 42700 # kJ/kg"
   ]
  },
  {
   "cell_type": "code",
   "execution_count": 27,
   "id": "ab06503b",
   "metadata": {},
   "outputs": [
    {
     "name": "stdout",
     "output_type": "stream",
     "text": [
      "T2:  867.7468451286674 K\n",
      "Pc:  52800.45659696606 kW\n",
      "T4:  757.9053460976709 K\n",
      "PT:  85754.8028129166 kW\n",
      "Qin:  75539.54340303394 kW\n",
      "mdotf:  6368.6734484993485 kg/hr\n",
      "PB:  32954.34621595054 kW\n",
      "eta:  0.43625291776157304\n",
      "sac:  193.25746615530753 g/kW-hr\n",
      "Break power per ton:  1.3181738486380217 MW/ton\n"
     ]
    }
   ],
   "source": [
    "T2 = T1*PI**((nC-1)/nC)\n",
    "print('T2: ', T2, 'K')\n",
    "Pc = mdot*cp*(T2-T1)\n",
    "print('Pc: ', Pc, 'kW')\n",
    "T4 = T3/PI**((nT-1)/nT)\n",
    "print('T4: ', T4, 'K')\n",
    "PT = mdot*cp*(T3-T4)\n",
    "print('PT: ', PT, 'kW')\n",
    "Qin = mdot*cp*(T3-T2)\n",
    "print('Qin: ', Qin, 'kW')\n",
    "mdotf = Qin/hL\n",
    "print('mdotf: ',mdotf*60**2, 'kg/hr' )\n",
    "PB = PT-Pc\n",
    "print('PB: ', PB, 'kW')\n",
    "eta = PB/Qin\n",
    "print('eta: ', eta)\n",
    "sfc = mdotf*3600*1000/PB\n",
    "print('sfc: ', sfc, 'g/kW-hr')\n",
    "BPperTon = PB/1000/W\n",
    "print('Break power per ton: ', BPperTon, 'MW/ton')"
   ]
  },
  {
   "cell_type": "code",
   "execution_count": 28,
   "id": "29c7b140",
   "metadata": {},
   "outputs": [],
   "source": [
    "# Regenerative Cycle\n",
    "ne = 3600*(1/60) # Hz\n",
    "T3 = 1680 #K\n",
    "p2 = 8 #bar\n",
    "nC =1.5\n",
    "nT = 1.333\n",
    "mdot = 70.5/(18/8) # kg/s\n",
    "eta_HX = 0.8\n",
    "W = 24 #Ton metric\n",
    "L =6.5 #m\n",
    "Width = 2.7 #m\n",
    "H =3 # m\n",
    "PI = 8\n",
    "T1 = 300 # K\n",
    "p1 = 1 # bar\n",
    "cp = 1.0 # kJ/kg-K\n",
    "hL = 42700 # kJ/kg\n"
   ]
  },
  {
   "cell_type": "code",
   "execution_count": 37,
   "id": "aecd6bc9",
   "metadata": {},
   "outputs": [
    {
     "name": "stdout",
     "output_type": "stream",
     "text": [
      "T2:  600.0 K\n",
      "Pc:  9400.0 kW\n",
      "T4:  999.3236296241067 K\n",
      "PT:  21327.85960511132 kW\n",
      "T5:  919.4589036992854 K\n",
      "Qin:  23830.287684089057 kW\n",
      "mdotf:  2009.110905450131 kg/hr\n",
      "PB:  11927.85960511132 kW\n",
      "eta:  0.5005335967083302\n",
      "sfc:  168.438510509395 g/kW-hr\n",
      "Break power per ton:  0.4969941502129717 MW/ton\n"
     ]
    }
   ],
   "source": [
    "T2 = T1*PI**((nC-1)/nC)\n",
    "print('T2: ', T2, 'K')\n",
    "Pc = mdot*cp*(T2-T1)\n",
    "print('Pc: ', Pc, 'kW')\n",
    "T4 = T3/PI**((nT-1)/nT)\n",
    "print('T4: ', T4, 'K')\n",
    "PT = mdot*cp*(T3-T4)\n",
    "print('PT: ', PT, 'kW')\n",
    "T5 = eta_HX*(T4-T2)+T2\n",
    "print('T5: ', T5, 'K')\n",
    "Qin = mdot*cp*(T3-T5)\n",
    "print('Qin: ', Qin, 'kW')\n",
    "mdotf = Qin/hL\n",
    "print('mdotf: ',mdotf*60**2, 'kg/hr' )\n",
    "PB = PT-Pc\n",
    "print('PB: ', PB, 'kW')\n",
    "eta = PB/Qin\n",
    "print('eta: ', eta)\n",
    "sfc = mdotf*3600*1000/PB\n",
    "print('sfc: ', sfc, 'g/kW-hr')\n",
    "BPperTon = PB/1000/W\n",
    "print('Break power per ton: ', BPperTon, 'MW/ton')"
   ]
  },
  {
   "cell_type": "code",
   "execution_count": null,
   "id": "00a7910d",
   "metadata": {},
   "outputs": [],
   "source": []
  }
 ],
 "metadata": {
  "kernelspec": {
   "display_name": "Python 3 (ipykernel)",
   "language": "python",
   "name": "python3"
  },
  "language_info": {
   "codemirror_mode": {
    "name": "ipython",
    "version": 3
   },
   "file_extension": ".py",
   "mimetype": "text/x-python",
   "name": "python",
   "nbconvert_exporter": "python",
   "pygments_lexer": "ipython3",
   "version": "3.10.9"
  },
  "varInspector": {
   "cols": {
    "lenName": 16,
    "lenType": 16,
    "lenVar": 40
   },
   "kernels_config": {
    "python": {
     "delete_cmd_postfix": "",
     "delete_cmd_prefix": "del ",
     "library": "var_list.py",
     "varRefreshCmd": "print(var_dic_list())"
    },
    "r": {
     "delete_cmd_postfix": ") ",
     "delete_cmd_prefix": "rm(",
     "library": "var_list.r",
     "varRefreshCmd": "cat(var_dic_list()) "
    }
   },
   "types_to_exclude": [
    "module",
    "function",
    "builtin_function_or_method",
    "instance",
    "_Feature"
   ],
   "window_display": false
  }
 },
 "nbformat": 4,
 "nbformat_minor": 5
}
