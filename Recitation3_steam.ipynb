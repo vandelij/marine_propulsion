{
 "cells": [
  {
   "cell_type": "code",
   "execution_count": 1,
   "id": "1b632dc1",
   "metadata": {},
   "outputs": [],
   "source": [
    "import numpy as np\n",
    "import matplotlib.pyplot as plt"
   ]
  },
  {
   "cell_type": "code",
   "execution_count": 2,
   "id": "6eca527b",
   "metadata": {},
   "outputs": [],
   "source": [
    "R = 455.6e3 # N\n",
    "vs = 20.88*0.5144 # m/s\n",
    "vend = 16*0.5144 # m/s\n",
    "n_p = 255*(1/60) # rot/s\n",
    "n_e = 1000*(1/60)\n",
    "kp = 2\n",
    "ke = 1\n",
    "t = 0.08\n",
    "w = 0.045\n",
    "eta_O = 0.679\n",
    "eta_R = 0.97\n",
    "eta_S = 0.99\n",
    "eta_GB = 0.99\n",
    "eta_e = 0.363\n",
    "delta = 1827*1e3 # kg\n",
    "rho = 1025 # kg/m^3\n",
    "h_L = 42700e3 # kj/kg"
   ]
  },
  {
   "cell_type": "code",
   "execution_count": 3,
   "id": "26818ebc",
   "metadata": {},
   "outputs": [
    {
     "name": "stdout",
     "output_type": "stream",
     "text": [
      "Effective Power P_E =  4893.450163199999 kW\n",
      "Hull efficiency eta_H:  0.9633507853403143\n",
      "Thrust power per propeller P_T:  2539.807014052173 kW\n",
      "Open water propeller power per propeller P_O:  3740.5110663507703 kW\n",
      "Propeller power per propeller P_p:  3856.196975619351 kW\n",
      "Delivered power P_d:  7712.393951238702 kW\n",
      "Shaft power per propeller P_s:  3895.148460221567 kW\n",
      "Total Shaft power kp*P_s:  7790.296920443134 kW\n",
      "Break power per engine P_b:  3934.493394163199 kW\n",
      "Total Break power : kp*P_b 7868.986788326398 kW\n",
      "Heat input per engine:  10838.824777309088 kW\n",
      "Propulsive efficiency eta_D:  0.6344917277486912\n",
      "Transmission efficiency eta_TRM:  0.9801\n",
      "fraction of fuel energy converted to towing power:  0.22573711927903667 = 0.2257371192790367\n",
      "C_E:  0.02620920333800533\n",
      "C_D:  0.04130739959526508\n",
      "Thrust per prop T:  247.60869565217388 kN\n",
      "Open water torque:  140.0754884469792 kN-m\n",
      "Torque delivered to one prop:  144.40772004843214 kN-m\n",
      "Shaft torque delivered to one prop:  145.8663838873052 kN-m\n",
      "Engine torque:  37.57164433460892 (DONT USE FOR PSET) kN-m\n",
      "fuel mass flow rate:  0.2538366458386203 kg/s\n",
      "c1:  3949.306198995635\n",
      "Vs_H =  37.35212443757383 knots\n",
      "Alternative P_B_total:  7868.986788326398 kW\n"
     ]
    }
   ],
   "source": [
    "P_E = R*vs\n",
    "print('Effective Power P_E = ', P_E/1000, 'kW')\n",
    "eta_H = (1 - t)/(1 - w)\n",
    "print('Hull efficiency eta_H: ', eta_H)\n",
    "P_T = P_E / (kp*eta_H)\n",
    "print('Thrust power per propeller P_T: ', P_T/1000, 'kW')\n",
    "P_O = P_T / eta_O\n",
    "print('Open water propeller power per propeller P_O: ', P_O/1000, 'kW')\n",
    "P_p = P_O / eta_R\n",
    "print('Propeller power per propeller P_p: ', P_p/1000, 'kW')\n",
    "P_d = P_p * kp\n",
    "print('Delivered power P_d: ', P_d/1000, 'kW')\n",
    "eta_D = eta_O*eta_H*eta_R\n",
    "P_s = P_p / eta_S\n",
    "print('Shaft power per propeller P_s: ', P_s/1000, 'kW')\n",
    "print('Total Shaft power kp*P_s: ', kp*P_s/1000, 'kW')\n",
    "P_B = P_s / (eta_GB*ke)\n",
    "print('Break power per engine P_b: ', P_B/1000, 'kW')\n",
    "print('Total Break power : kp*P_b', kp*P_B/1000, 'kW')  #TODO: not true if ke =! 1\n",
    "Qdot_F = P_B / (eta_e)\n",
    "print('Heat input per engine: ', Qdot_F/1000, 'kW')\n",
    "print('Propulsive efficiency eta_D: ', eta_D)\n",
    "eta_TRM = eta_S * eta_GB\n",
    "print('Transmission efficiency eta_TRM: ', eta_TRM)\n",
    "eta_all = eta_H*eta_O*eta_R*eta_S*eta_GB*eta_e\n",
    "print('fraction of fuel energy converted to towing power: ', P_E/(kp*ke*Qdot_F), '=', eta_all)\n",
    "C_E = P_E / (rho**(1/3) * delta**(2/3) * vs**3)\n",
    "print('C_E: ', C_E)\n",
    "C_D = C_E / eta_D\n",
    "print('C_D: ', C_D)\n",
    "T = P_T / ((1-w)*vs)\n",
    "print('Thrust per prop T: ', T/1000, 'kN')\n",
    "Q = P_O / (2*np.pi*n_p)\n",
    "print('Open water torque: ', Q/1000, 'kN-m')\n",
    "M_P = P_p / (2*np.pi*n_p)\n",
    "print('Torque delivered to one prop: ', M_P/1000, 'kN-m')\n",
    "M_s = P_s / (2*np.pi*n_p)\n",
    "print('Shaft torque delivered to one prop: ', M_s/1000, 'kN-m')\n",
    "M_B = P_B / (2*np.pi*n_e)\n",
    "# M_B_HP = (P_B/2) / (2*np.pi*n_eHP)\n",
    "# M_B_LP = (P_B/2) / (2*np.pi*n_eLP)\n",
    "print('Engine torque: ', M_B/1000, '(DONT USE FOR PSET) kN-m')\n",
    "# print('HP Engine torque M_B_HP: ', M_B_HP/1000, 'kN-m')\n",
    "# print('HP Engine torque M_B_LP: ', M_B_LP/1000, 'kN-m')\n",
    "mdot_f = Qdot_F/h_L\n",
    "print('fuel mass flow rate: ', mdot_f, 'kg/s')\n",
    "c1 = R / vs**2\n",
    "print('c1: ', c1)\n",
    "LWL_feet = 777\n",
    "vs_H_knots = 1.34*np.sqrt(LWL_feet)\n",
    "print('Vs_H = ', vs_H_knots, 'knots')\n",
    "\n",
    "print('Alternative P_B_total: ', P_E/(1000*eta_H*eta_O*eta_R*eta_S*eta_GB), 'kW')"
   ]
  },
  {
   "cell_type": "code",
   "execution_count": 4,
   "id": "65cb4453",
   "metadata": {},
   "outputs": [
    {
     "name": "stdout",
     "output_type": "stream",
     "text": [
      "Break power per engine P_b:  3897.979797979798 kW\n"
     ]
    }
   ],
   "source": [
    "P_s = 3859e3 # W\n",
    "P_B = P_s / (eta_GB*ke)\n",
    "print('Break power per engine P_b: ', P_B/1000, 'kW')"
   ]
  },
  {
   "cell_type": "code",
   "execution_count": 27,
   "id": "7737fe76",
   "metadata": {},
   "outputs": [
    {
     "name": "stdout",
     "output_type": "stream",
     "text": [
      "h1 - h2:  -8069.900000000001\n",
      "w12:  -8.0699 kJ/kg\n",
      "h2:  199.8999 kJ/kg\n",
      "q23:  3321.1001 kJ/kg\n",
      "X4:  0.8303670226239518\n",
      "h4:  2178.732211734592 kJ/kg\n",
      "w34:  1342.267788265408 kJ/kg\n",
      "mdot:  2.904025435205517 kg/s\n",
      "q41:  1986.902211734592 [kJ/kg]\n",
      "Q41:  5770.014560143352 [kW]\n",
      "eta_TH:  0.4017337171696234\n",
      "eta_c:  0.7871428571428571\n"
     ]
    }
   ],
   "source": [
    "p2 = 8e6 # Pa\n",
    "p3 = p2\n",
    "p1 = 0.01e6 # Pa\n",
    "p4 = p1\n",
    "T3 = 550 # C\n",
    "T_boil = 1400 # K\n",
    "T_ocean = 298 # K\n",
    "nu_f1 = 0.00101 # m^3/kg\n",
    "h1 = 191.83e3 # J/kg\n",
    "delta_h1minush2 = nu_f1*(p1 - p2)\n",
    "print('h1 - h2: ', delta_h1minush2)\n",
    "w12 = delta_h1minush2\n",
    "print('w12: ', w12/1000, 'kJ/kg')\n",
    "h2 = h1 + nu_f1*(p2 - p1)\n",
    "print('h2: ', h2/1000, 'kJ/kg')\n",
    "h3 = 3521e3 # kJ/kg\n",
    "q23 = h3 - h2\n",
    "print('q23: ', q23/1000, 'kJ/kg')\n",
    "s3 = 6.8778e3 # J/kg\n",
    "T4 = 45.81 # C\n",
    "T1 = T4\n",
    "s4 = s3\n",
    "sf4 = .6493e3\n",
    "sfg4 = 7.5009e3\n",
    "sg = 8.1502e3 \n",
    "X4 = (s4 - sf4)/sfg4\n",
    "print('X4: ', X4)\n",
    "hf4 = 191.83e3\n",
    "hfg4 = 2392.8e3\n",
    "h4 = hf4 + X4*hfg4\n",
    "print('h4: ', h4/1000, 'kJ/kg')\n",
    "\n",
    "w34 = h3 - h4\n",
    "print('w34: ', w34/1000, 'kJ/kg')\n",
    "mdot = P_B/w34\n",
    "print('mdot: ', mdot, 'kg/s')\n",
    "q41 = h4 - h1\n",
    "print('q41: ', q41/1000, '[kJ/kg]')\n",
    "Q41 = mdot*q41\n",
    "print('Q41: ', Q41/1000, '[kW]')\n",
    "eta_TH = (w34 - abs(w12))/q23\n",
    "print('eta_TH: ', eta_TH)\n",
    "eta_c = 1 - T_ocean/T_boil\n",
    "print('eta_c: ', eta_c)"
   ]
  },
  {
   "cell_type": "code",
   "execution_count": 31,
   "id": "f4abfd7d",
   "metadata": {},
   "outputs": [
    {
     "name": "stdout",
     "output_type": "stream",
     "text": [
      "T1:  318.96 K\n",
      "T3:  823.15 K\n",
      "T4:  318.96 K\n"
     ]
    }
   ],
   "source": [
    "print('T1: ', T1 + 273.15, 'K')\n",
    "print('T3: ', T3 + 273.15, 'K')\n",
    "print('T4: ', T4 + 273.15, 'K')"
   ]
  },
  {
   "cell_type": "code",
   "execution_count": 36,
   "id": "a27b64f5",
   "metadata": {},
   "outputs": [
    {
     "name": "stdout",
     "output_type": "stream",
     "text": [
      "P_B:  5227.190909090909 hp\n",
      "boilder mass MT:  13.208\n",
      "turbine mass:  13.750743571428572 MT\n",
      "total weight:  304.8 MT\n"
     ]
    }
   ],
   "source": [
    "P_B_HP = P_B*1.341/1000\n",
    "print('P_B: ', P_B_HP, 'hp')\n",
    "boilder_MT = 13*1.016\n",
    "print('boilder mass MT: ', boilder_MT)\n",
    "turbine_MT = 5.8*5227*1.016/2240\n",
    "print('turbine mass: ', turbine_MT, 'MT')\n",
    "W_total = 300*1.016\n",
    "print('total weight: ', W_total, 'MT')"
   ]
  },
  {
   "cell_type": "code",
   "execution_count": null,
   "id": "4e977c80",
   "metadata": {},
   "outputs": [],
   "source": []
  }
 ],
 "metadata": {
  "kernelspec": {
   "display_name": "Python 3 (ipykernel)",
   "language": "python",
   "name": "python3"
  },
  "language_info": {
   "codemirror_mode": {
    "name": "ipython",
    "version": 3
   },
   "file_extension": ".py",
   "mimetype": "text/x-python",
   "name": "python",
   "nbconvert_exporter": "python",
   "pygments_lexer": "ipython3",
   "version": "3.10.9"
  },
  "varInspector": {
   "cols": {
    "lenName": 16,
    "lenType": 16,
    "lenVar": 40
   },
   "kernels_config": {
    "python": {
     "delete_cmd_postfix": "",
     "delete_cmd_prefix": "del ",
     "library": "var_list.py",
     "varRefreshCmd": "print(var_dic_list())"
    },
    "r": {
     "delete_cmd_postfix": ") ",
     "delete_cmd_prefix": "rm(",
     "library": "var_list.r",
     "varRefreshCmd": "cat(var_dic_list()) "
    }
   },
   "types_to_exclude": [
    "module",
    "function",
    "builtin_function_or_method",
    "instance",
    "_Feature"
   ],
   "window_display": false
  }
 },
 "nbformat": 4,
 "nbformat_minor": 5
}
