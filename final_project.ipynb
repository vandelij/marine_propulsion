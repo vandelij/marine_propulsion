{
 "cells": [
  {
   "cell_type": "code",
   "execution_count": 5,
   "metadata": {},
   "outputs": [],
   "source": [
    "import numpy as np\n",
    "import matplotlib.pyplot as plt\n",
    "%matplotlib inline"
   ]
  },
  {
   "cell_type": "code",
   "execution_count": 24,
   "metadata": {},
   "outputs": [
    {
     "data": {
      "text/plain": [
       "Text(0, 0.5, 'BHP [MW]')"
      ]
     },
     "execution_count": 24,
     "metadata": {},
     "output_type": "execute_result"
    },
    {
     "data": {
      "image/png": "[encoded data removed]",
      "text/plain": [
       "<Figure size 500x500 with 1 Axes>"
      ]
     },
     "metadata": {},
     "output_type": "display_data"
    }
   ],
   "source": [
    "speeds = np.array([5, 12, 20, 25.5])\n",
    "duration_frac = np.array([.2, .6, .15, .05])\n",
    "num_days_underway = 183\n",
    "break_powers = np.array([5406, 9341, 25461, (62154 + 52051)/2]) # kW\n",
    "\n",
    "plt.figure(figsize=(5,5))\n",
    "plt.scatter(speeds, break_powers/1000)\n",
    "plt.xlabel('Ship Speed [kts]')\n",
    "plt.ylabel('BHP [MW]')"
   ]
  },
  {
   "cell_type": "code",
   "execution_count": 25,
   "metadata": {},
   "outputs": [
    {
     "data": {
      "text/plain": [
       "Text(0, 0.5, 'Days per Year')"
      ]
     },
     "execution_count": 25,
     "metadata": {},
     "output_type": "execute_result"
    },
    {
     "data": {
      "image/png": "[encoded data removed]",
      "text/plain": [
       "<Figure size 500x300 with 1 Axes>"
      ]
     },
     "metadata": {},
     "output_type": "display_data"
    }
   ],
   "source": [
    "plt.figure(figsize=(5,3))\n",
    "plt.bar(speeds, num_days_underway*duration_frac, color='red')\n",
    "plt.xlabel('Ship Speed [kts]')\n",
    "plt.ylabel('Days per Year')"
   ]
  },
  {
   "cell_type": "code",
   "execution_count": 31,
   "metadata": {},
   "outputs": [
    {
     "name": "stdout",
     "output_type": "stream",
     "text": [
      "For the following powers: [ 5406.   9341.  25461.  57102.5]\n",
      "The MCR is                [  9.467  16.358  44.588 100.   ] %\n",
      "mdots: [0.69377    1.15984083 2.4541575  4.58406181] kg/s\n",
      "m_steam: [ 2193.8672448 11003.0852304  5820.4762596  3623.975901 ] Ton\n",
      "Total fuel used in the propulsion fuel rate is: 22641.404635799998 Ton\n"
     ]
    }
   ],
   "source": [
    "# Steam Section \n",
    "sfc_100_steam = 289 # g/kwhr\n",
    "sfc_100_ssg = 242\n",
    "shift = sfc_100_steam - sfc_100_ssg\n",
    "fraction_load = break_powers / break_powers[-1]\n",
    "print(f'For the following powers: {break_powers}')\n",
    "print(f'The MCR is                {np.round(fraction_load*100, 3)} %')\n",
    "sfc_steam = np.array([415, 400, 300, 242]) + shift\n",
    "\n",
    "# calculate the fuel rates at certain speeds \n",
    "mdot_steam = sfc_steam*(1/60**2)*(1/1000)*break_powers\n",
    "print(f'mdots: {mdot_steam} kg/s')\n",
    "\n",
    "m_steam_annual = mdot_steam*num_days_underway*duration_frac*24*60**2\n",
    "print(f'm_steam: {m_steam_annual/1000} Ton')\n",
    "mtot_steam = np.sum(m_steam_annual)\n",
    "\n",
    "print(f'Total fuel used in the propulsion fuel rate is: {mtot_steam/1000} Ton')\n"
   ]
  },
  {
   "cell_type": "code",
   "execution_count": 52,
   "metadata": {},
   "outputs": [
    {
     "name": "stdout",
     "output_type": "stream",
     "text": [
      "Power per steam engine: 1186.75 kW\n",
      "MCR for steam electric power plant at average load: 0.4747\n",
      "sfc for steam electric generator during endurance operation: 327\n",
      "Total fuel used to supply steam electric power generator: 1533.9522258000004 Ton\n",
      "\n",
      "-----\n"
     ]
    }
   ],
   "source": [
    "# As-is electrical generation \n",
    "\n",
    "P_avg_el = 4747 # kW\n",
    "P_WB = 7272 # kW\n",
    "\n",
    "num_steam_elec = 5\n",
    "num_diesel_elec = 2\n",
    "\n",
    "# operation powers\n",
    "P_steam_elec_100 = 2500\n",
    "P_diesel_elec_100 = 2000\n",
    "\n",
    "# total_installed_electric_capacity = num_steam_elec*P_steam_elec_100 + num_diesel_elec*P_diesel_elec_100\n",
    "# print(f'Total installed electrical power: {total_installed_electric_capacity} kW')\n",
    "\n",
    "# P_steam_elec_avg = (P_steam_elec_100/total_installed_electric_capacity)*P_avg_el\n",
    "# print(f'Power per steam engine: {P_steam_elec_avg} kW')\n",
    "# MCR_steam_elec_avg = P_steam_elec_avg/P_steam_elec_100\n",
    "# print(f'MCR for steam electric power plant at average load: {MCR_steam_elec_avg}')\n",
    "# sfc_steam_elec = 325 + shift\n",
    "# print(f'sfc for steam electric generator: {sfc_steam_elec}')\n",
    "# # total fuel mass used by the 5 steam electric generators\n",
    "# m_steam_elec = sfc_steam_elec/(1000*60**2)*P_steam_elec_avg*num_days_underway*24*60**2\n",
    "# print(f'Total fuel used to supply steam electric power generator: {m_steam_elec/1000} Ton')\n",
    "\n",
    "# print('\\n----------------')\n",
    "# P_diesel_elec_avg = (P_diesel_elec_100/total_installed_electric_capacity)*P_avg_el\n",
    "# print(f'Power per diesel engine: {P_diesel_elec_avg} kW')\n",
    "# MCR_diesel_elec_avg = P_diesel_elec_avg/P_diesel_elec_100\n",
    "# print(f'MCR for diesel electric power plant at average load: {MCR_diesel_elec_avg}')\n",
    "\n",
    "endurance_percent = 0.9\n",
    "winter_battle_percent = 1- endurance_percent\n",
    "\n",
    "# Endurance speed section \n",
    "P_steam_elec_avg = P_avg_el/(num_steam_elec-1)\n",
    "print(f'Power per steam engine: {P_steam_elec_avg} kW')\n",
    "MCR_steam_elec_avg = P_steam_elec_avg/P_steam_elec_100\n",
    "print(f'MCR for steam electric power plant at average load: {MCR_steam_elec_avg}')\n",
    "\n",
    "sfc_steam_elec_avg = 280 + shift\n",
    "print(f'sfc for steam electric generator during endurance operation: {sfc_steam_elec_avg}')\n",
    "m_steam_elec_avg = sfc_steam_elec_avg/(1000*60**2)*P_steam_elec_avg*(num_days_underway*endurance_percent)*24*60**2\n",
    "print(f'Total fuel used to supply steam electric power generator: {m_steam_elec_avg/1000} Ton')\n",
    "\n",
    "print('\\n-----')\n",
    "# winter battle section "
   ]
  },
  {
   "cell_type": "code",
   "execution_count": null,
   "metadata": {},
   "outputs": [],
   "source": []
  }
 ],
 "metadata": {
  "kernelspec": {
   "display_name": "base",
   "language": "python",
   "name": "python3"
  },
  "language_info": {
   "codemirror_mode": {
    "name": "ipython",
    "version": 3
   },
   "file_extension": ".py",
   "mimetype": "text/x-python",
   "name": "python",
   "nbconvert_exporter": "python",
   "pygments_lexer": "ipython3",
   "version": "3.10.9"
  }
 },
 "nbformat": 4,
 "nbformat_minor": 2
}
