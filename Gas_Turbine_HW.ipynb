{
 "cells": [
  {
   "cell_type": "code",
   "execution_count": 2,
   "id": "e3ea7efc",
   "metadata": {},
   "outputs": [],
   "source": [
    "import numpy as np\n",
    "import matplotlib.pyplot as plt"
   ]
  },
  {
   "cell_type": "code",
   "execution_count": 13,
   "id": "953dd0dd",
   "metadata": {},
   "outputs": [],
   "source": [
    "# Simple Cycle\n",
    "ne = 10950*(1/60) # Hz\n",
    "T4 = 766 #K\n",
    "p2 = 12.3 #bar\n",
    "nC =1.496\n",
    "nT = 1.305\n",
    "mdot = 29.5 # kg/s\n",
    "W = 42.6 #Ton metric\n",
    "L =10.4 #m\n",
    "Width = 2.4 #m\n",
    "H =3.4 # m\n",
    "PI = 12.3\n",
    "T1 = 288 # K\n",
    "p1 = 1 # bar\n",
    "cp = 1.1 # kJ/kg-K\n",
    "hL = 42700 # kJ/kg\n",
    "k = 1.4"
   ]
  },
  {
   "cell_type": "code",
   "execution_count": 15,
   "id": "0838ddeb",
   "metadata": {},
   "outputs": [
    {
     "name": "stdout",
     "output_type": "stream",
     "text": [
      "T2:  661.8375470554818 K\n",
      "Pc:  12131.028401950385 kW\n",
      "T3:  1377.074861976175 K\n",
      "PT:  19829.379271126883 kW\n",
      "Qin:  23209.4508691765 kW\n",
      "mdotf:  1956.7686915464967 kg/hr\n",
      "PB:  7698.350869176498 kW\n",
      "eta:  0.3316903494429657\n",
      "sfc:  254.18024259990824 g/kW-hr\n",
      "eta_C:  0.8617511520737325\n",
      "eta_T:  0.8180076628352492\n",
      "Break power per ton:  0.18071246171775818 MW/ton\n"
     ]
    }
   ],
   "source": [
    "T2 = T1*PI**((nC-1)/nC)\n",
    "print('T2: ', T2, 'K')\n",
    "Pc = mdot*cp*(T2-T1)\n",
    "print('Pc: ', Pc, 'kW')\n",
    "T3 = T4*PI**((nT-1)/nT)\n",
    "print('T3: ', T3, 'K')\n",
    "PT = mdot*cp*(T3-T4)\n",
    "print('PT: ', PT, 'kW')\n",
    "Qin = mdot*cp*(T3-T2)\n",
    "print('Qin: ', Qin, 'kW')\n",
    "mdotf = Qin/hL\n",
    "print('mdotf: ',mdotf*60**2, 'kg/hr' )\n",
    "PB = PT-Pc\n",
    "print('PB: ', PB, 'kW')\n",
    "eta = PB/Qin\n",
    "print('eta: ', eta)\n",
    "sfc = mdotf*3600*1000/PB\n",
    "print('sfc: ', sfc, 'g/kW-hr')\n",
    "eta_C = ((k-1)/k)/((nC-1)/nC)\n",
    "print('eta_C: ', eta_C)\n",
    "eta_T = ((nT-1)/nT)/((k-1)/k)\n",
    "print('eta_T: ', eta_T)\n",
    "BPperTon = PB/1000/W\n",
    "print('Break power per ton: ', BPperTon, 'MW/ton')"
   ]
  },
  {
   "cell_type": "code",
   "execution_count": 23,
   "id": "29c7b140",
   "metadata": {},
   "outputs": [],
   "source": [
    "# Regen Cycle \n",
    "ne = 10950*(1/60) # Hz\n",
    "T4 = 766 #K\n",
    "p2 = 8 #bar\n",
    "nC =1.496\n",
    "nT = 1.305\n",
    "mdot = (8/12.3)*29.5 # kg/s\n",
    "W = 42.6 #Ton metric\n",
    "L =10.4 #m\n",
    "Width = 2.4 #m\n",
    "H =3.4 # m\n",
    "PI = 8\n",
    "T1 = 288 # K\n",
    "p1 = 1 # bar\n",
    "cp = 1.1 # kJ/kg-K\n",
    "hL = 42700 # kJ/kg\n",
    "eta_HX = 0.8\n"
   ]
  },
  {
   "cell_type": "code",
   "execution_count": 26,
   "id": "aecd6bc9",
   "metadata": {},
   "outputs": [
    {
     "name": "stdout",
     "output_type": "stream",
     "text": [
      "T2:  573.8689104792621 K\n",
      "mdot:  19.1869918699187\n",
      "Pc:  6033.460907350932 kW\n",
      "PT:  12897.15724951342 kW\n",
      "T5:  727.5737820958525 K\n",
      "Qin:  13708.169133083882 kW\n",
      "mdotf:  1155.7238613372826 kg/hr\n",
      "PB:  6863.696342162489 kW\n",
      "eta:  0.5007011713619254\n",
      "sfc:  168.38213751355414 g/kW-hr\n"
     ]
    }
   ],
   "source": [
    "T2 = T1*PI**((nC-1)/nC)\n",
    "print('T2: ', T2, 'K')\n",
    "print('mdot: ', mdot)\n",
    "Pc = mdot*cp*(T2-T1)\n",
    "print('Pc: ', Pc, 'kW')\n",
    "# T3 = T4*PI**((nT-1)/nT)\n",
    "# print('T3: ', T3, 'K')\n",
    "PT = mdot*cp*(T3-T4)\n",
    "print('PT: ', PT, 'kW')\n",
    "T5 = eta_HX*(T4-T2)+T2\n",
    "print('T5: ', T5, 'K')\n",
    "Qin = mdot*cp*(T3-T5)\n",
    "print('Qin: ', Qin, 'kW')\n",
    "mdotf = Qin/hL\n",
    "print('mdotf: ',mdotf*60**2, 'kg/hr' )\n",
    "PB = PT-Pc\n",
    "print('PB: ', PB, 'kW')\n",
    "eta = PB/Qin\n",
    "print('eta: ', eta)\n",
    "sfc = mdotf*3600*1000/PB\n",
    "print('sfc: ', sfc, 'g/kW-hr')\n",
    "# BPperTon = PB/1000/W\n",
    "# print('Break power per ton: ', BPperTon, 'MW/ton')"
   ]
  },
  {
   "cell_type": "code",
   "execution_count": null,
   "id": "00a7910d",
   "metadata": {},
   "outputs": [],
   "source": []
  }
 ],
 "metadata": {
  "kernelspec": {
   "display_name": "Python 3 (ipykernel)",
   "language": "python",
   "name": "python3"
  },
  "language_info": {
   "codemirror_mode": {
    "name": "ipython",
    "version": 3
   },
   "file_extension": ".py",
   "mimetype": "text/x-python",
   "name": "python",
   "nbconvert_exporter": "python",
   "pygments_lexer": "ipython3",
   "version": "3.10.9"
  },
  "varInspector": {
   "cols": {
    "lenName": 16,
    "lenType": 16,
    "lenVar": 40
   },
   "kernels_config": {
    "python": {
     "delete_cmd_postfix": "",
     "delete_cmd_prefix": "del ",
     "library": "var_list.py",
     "varRefreshCmd": "print(var_dic_list())"
    },
    "r": {
     "delete_cmd_postfix": ") ",
     "delete_cmd_prefix": "rm(",
     "library": "var_list.r",
     "varRefreshCmd": "cat(var_dic_list()) "
    }
   },
   "types_to_exclude": [
    "module",
    "function",
    "builtin_function_or_method",
    "instance",
    "_Feature"
   ],
   "window_display": false
  }
 },
 "nbformat": 4,
 "nbformat_minor": 5
}
