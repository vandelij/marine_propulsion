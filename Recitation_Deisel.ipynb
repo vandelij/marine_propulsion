{
 "cells": [
  {
   "cell_type": "code",
   "execution_count": 49,
   "id": "b0398e6a",
   "metadata": {},
   "outputs": [],
   "source": [
    "import numpy as np\n",
    "import matplotlib.pyplot as plt"
   ]
  },
  {
   "cell_type": "code",
   "execution_count": 47,
   "id": "9484d43b",
   "metadata": {},
   "outputs": [],
   "source": [
    "k = 2\n",
    "P_B = 14400e3 # W\n",
    "P_BI = 1200e3 # kW/cylinder\n",
    "i = 12 # number of cylinders\n",
    "ne = 514*(1/60) # rot/sec, Hz\n",
    "Ls = 0.6 # m, stroke length\n",
    "D_B = 0.48 # m\n",
    "p_me = 25.8 # bar\n",
    "sfc = 176 # g/kWh\n",
    "rc = 15.8\n",
    "epsi = rc\n",
    "p1 = 3.5 # bar\n",
    "p3 = 210 # bar\n",
    "p4 = p3\n",
    "cp = 1.1e3 #J/kgK\n",
    "cv = 0.813e3 #J/kgK\n",
    "R = cp - cv\n",
    "kappa = cp/cv\n",
    "sigma = 14.5 # kg-air / kg fuel\n",
    "h_L = 42700e3 # J/kg\n",
    "L_eng = 10.76\n",
    "W_eng = 4.7\n",
    "H_eng = 5.355\n",
    "Weight_eng = 186 #Ton metric\n",
    "\n",
    "\n",
    "# cycle\n",
    "scavanging = 1.10 # 10 % more air is used for scavanging \n",
    "T_amb = 298 #K\n",
    "T1 = 388 # K\n",
    "b = 1.65\n"
   ]
  },
  {
   "cell_type": "code",
   "execution_count": 29,
   "id": "7bc28732",
   "metadata": {},
   "outputs": [
    {
     "name": "stdout",
     "output_type": "stream",
     "text": [
      "lambda_s:  1.25\n",
      "Vs:  0.10857344210806325 m^3\n",
      "cm:  10.28 m/s\n",
      "betaVS:  11.052426603603845 kW/lt\n",
      "betaVS2:  11.051 kW/lt\n",
      "eta_e:  0.47902916755375774\n",
      "mdotf:  0.704\n",
      "V_BDC:  0.11590948549374319 m^3\n",
      "rho_1:  3.1430726678400807 kg/m^3\n",
      "m_air:  0.36431193579879056 kg\n",
      "mdot_air:  18.725633500057835 kg/s\n",
      "mdot air with scavanging:  20.59819685006362 kg/s\n",
      "sac:  5.149549212515905\n",
      "afr:  26.598911221673063\n",
      "air excess ratio lambda:  1.8344076704602112\n",
      "air excess ratio lambda including scavanging:  2.0178484375062324\n"
     ]
    }
   ],
   "source": [
    "lambda_s = Ls/D_B\n",
    "print('lambda_s: ', lambda_s)\n",
    "pi = np.pi\n",
    "Vs = pi/4 * D_B**2 * Ls\n",
    "print('Vs: ', Vs, 'm^3')\n",
    "cm = 2*ne*Ls\n",
    "print('cm: ', cm, 'm/s')\n",
    "\n",
    "betaVS = P_B/(i*Vs) * (1/1000)*(1/1000)\n",
    "print('betaVS: ', betaVS, 'kW/lt')\n",
    "betaVS2 = p_me*ne/k *(100000)*(1/1000)*(1/1000)\n",
    "print('betaVS2: ', betaVS2, 'kW/lt')\n",
    "\n",
    "eta_e = 3.6e9 / (sfc*h_L)\n",
    "print('eta_e: ', eta_e)\n",
    "mdotf = sfc*P_B/3.6e9\n",
    "print('mdotf: ', mdotf)\n",
    "V_BDC = Vs*epsi/(epsi-1)\n",
    "print('V_BDC: ', V_BDC, 'm^3')\n",
    "rho_1 = p1*1e5/(R*T1)\n",
    "print('rho_1: ', rho_1, 'kg/m^3')\n",
    "m_air = rho_1*V_BDC\n",
    "print('m_air: ', m_air, 'kg')\n",
    "mdot_air = m_air*ne*i/k\n",
    "print('mdot_air: ', mdot_air, 'kg/s')\n",
    "mdot_air_plus_scav = scavanging*mdot_air\n",
    "print('mdot air with scavanging: ', mdot_air_plus_scav, 'kg/s')\n",
    "sac = mdot_air_plus_scav*3600*1000/P_B\n",
    "print('sac: ', sac)\n",
    "afr = mdot_air/mdotf\n",
    "print('afr: ', afr)\n",
    "lambda_ex = afr/sigma\n",
    "print('air excess ratio lambda: ', lambda_ex)\n",
    "lambda_tot = lambda_ex*scavanging\n",
    "print('air excess ratio lambda including scavanging: ', lambda_tot)"
   ]
  },
  {
   "cell_type": "code",
   "execution_count": 48,
   "id": "6ac5028e",
   "metadata": {},
   "outputs": [
    {
     "name": "stdout",
     "output_type": "stream",
     "text": [
      "p2:  146.51001101090242 bar\n",
      "T2:  1027.9545076352647 K\n",
      "a:  1.4333491517134145\n",
      "T3:  1473.4177215189873 K\n",
      "T4:  2431.139240506329 K\n",
      "T5:  1095.0714045682441 K\n",
      "p5:  9.878221432960965 bar\n",
      "qin:  1415.6552637735424 kW/kg\n",
      "qout:  -574.8490519139825 kW/kg\n",
      "wcycle:  840.8062118595599 kW/kg\n",
      "pmi:  28.212768493544484 bar\n",
      "eta_th:  0.5939342955701825\n",
      "eta_m:  0.9144795558047923\n",
      "eta_q:  0.8819613501980073\n",
      "eta_i:  0.5238270932499806\n",
      "break power MW per ton:  0.07741935483870968\n"
     ]
    }
   ],
   "source": [
    "# Seiliger cycle\n",
    "\n",
    "p2 = p1*rc**kappa\n",
    "print('p2: ', p2, 'bar')\n",
    "T2 = T1*rc**(kappa-1)\n",
    "print('T2: ', T2, 'K')\n",
    "a = p3/p2\n",
    "print('a: ', a)\n",
    "T3 = T2*a\n",
    "print('T3: ', T3, 'K')\n",
    "T4 = T3*b\n",
    "print('T4: ', T4, 'K')\n",
    "p5 = p4*(rc/b)**(-kappa)\n",
    "T5 = T4*(rc/b)**(-(kappa-1))\n",
    "print('T5: ', T5, 'K')\n",
    "print('p5: ', p5, 'bar')\n",
    "qin = cv*(T3-T2) + cp*(T4 - T3)\n",
    "print('qin: ', qin/1000, 'kW/kg')\n",
    "qout = cv*(T1-T5)\n",
    "print('qout: ', qout/1000, 'kW/kg')\n",
    "w_cycle = qin + qout\n",
    "print('wcycle: ', w_cycle/1e3, 'kW/kg')\n",
    "pmi = m_air*w_cycle/Vs\n",
    "print('pmi: ', pmi/1e5, 'bar')\n",
    "eta_th = w_cycle/qin\n",
    "print('eta_th: ', eta_th)\n",
    "eta_m = p_me*1e5/pmi\n",
    "print('eta_m: ', eta_m)\n",
    "eta_q = eta_e/(eta_m*eta_th)\n",
    "print('eta_q: ', eta_q)\n",
    "eta_i = eta_e/eta_m\n",
    "print('eta_i: ', eta_i)\n",
    "break_power_per_ton = P_B/Weight_eng\n",
    "print('break power MW per ton: ', break_power_per_ton/1e6)"
   ]
  },
  {
   "cell_type": "code",
   "execution_count": null,
   "id": "82ad7dec",
   "metadata": {},
   "outputs": [],
   "source": []
  }
 ],
 "metadata": {
  "kernelspec": {
   "display_name": "Python 3 (ipykernel)",
   "language": "python",
   "name": "python3"
  },
  "language_info": {
   "codemirror_mode": {
    "name": "ipython",
    "version": 3
   },
   "file_extension": ".py",
   "mimetype": "text/x-python",
   "name": "python",
   "nbconvert_exporter": "python",
   "pygments_lexer": "ipython3",
   "version": "3.10.9"
  },
  "varInspector": {
   "cols": {
    "lenName": 16,
    "lenType": 16,
    "lenVar": 40
   },
   "kernels_config": {
    "python": {
     "delete_cmd_postfix": "",
     "delete_cmd_prefix": "del ",
     "library": "var_list.py",
     "varRefreshCmd": "print(var_dic_list())"
    },
    "r": {
     "delete_cmd_postfix": ") ",
     "delete_cmd_prefix": "rm(",
     "library": "var_list.r",
     "varRefreshCmd": "cat(var_dic_list()) "
    }
   },
   "types_to_exclude": [
    "module",
    "function",
    "builtin_function_or_method",
    "instance",
    "_Feature"
   ],
   "window_display": false
  }
 },
 "nbformat": 4,
 "nbformat_minor": 5
}
